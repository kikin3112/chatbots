{
 "cells": [
  {
   "cell_type": "code",
   "execution_count": 1,
   "metadata": {},
   "outputs": [],
   "source": [
    "# prueba para leer presentaciones y\n",
    "# enviarlas a OpenAI y recibir una\n",
    "# respuesta MINERVA"
   ]
  },
  {
   "cell_type": "code",
   "execution_count": 2,
   "metadata": {},
   "outputs": [],
   "source": [
    "from dotenv import load_dotenv, find_dotenv\n",
    "from PyPDF2 import PdfReader\n",
    "from langchain.text_splitter import CharacterTextSplitter\n",
    "from langchain_community.embeddings import OpenAIEmbeddings\n",
    "from langchain_community.vectorstores import FAISS\n",
    "from langchain.chat_models import ChatOpenAI\n",
    "from langchain.chains import LLMChain\n",
    "from langchain.prompts.chat import (\n",
    "    ChatPromptTemplate,\n",
    "    SystemMessagePromptTemplate,\n",
    "    HumanMessagePromptTemplate\n",
    ")\n",
    "import textwrap"
   ]
  },
  {
   "cell_type": "code",
   "execution_count": 15,
   "metadata": {},
   "outputs": [],
   "source": [
    "load_dotenv(find_dotenv())\n",
    "embeddings = OpenAIEmbeddings()"
   ]
  },
  {
   "cell_type": "code",
   "execution_count": 16,
   "metadata": {},
   "outputs": [],
   "source": [
    "def db_from_info(pdf):\n",
    "    info = \"\"\n",
    "    lector = PdfReader(pdf)\n",
    "    for page in lector.pages:\n",
    "        info += page.extract_text()\n",
    "    text_splitter = CharacterTextSplitter(\n",
    "        separator='\\n',\n",
    "        chunk_size=1000,\n",
    "        chunk_overlap=200,\n",
    "        length_function=len\n",
    "    )\n",
    "    docs = text_splitter.split_text(info)\n",
    "\n",
    "    db = FAISS.from_texts(docs, embeddings)\n",
    "    return db"
   ]
  },
  {
   "cell_type": "code",
   "execution_count": 17,
   "metadata": {},
   "outputs": [],
   "source": [
    "def get_response(db, query, k=7):\n",
    "    docs = db.similarity_search(query, k=k)\n",
    "    docs_content = ' '.join([d.page_content for d in docs])\n",
    "\n",
    "    chat = ChatOpenAI(model_name='gpt-3.5-turbo-0125', temperature=0.7)\n",
    "\n",
    "    template = \"\"\"\n",
    "        Eres Minerva, un asistente muy carismática de investigación profesional que habla en español.\n",
    "        \n",
    "        Tu tarea consiste en leer detalladamente la información proporcionada principalmente\n",
    "        en documentos de formato PDF, para dar respuestas a cualquier tipo de pregunta,\n",
    "        en especial a preguntas puntuales.\n",
    "\n",
    "        SIEMPRE debes responder dentro del siguiente contexto proporcionado aqui: {docs}.\n",
    "        \n",
    "        Si no sabes la respuesta, debes decir: 'No sé'.\n",
    "        \n",
    "        NUNCA debes empezar un párrafo con la frase 'En resumen,'.\n",
    "\n",
    "        Tus respuestas deben ser precisas y detalladas.\n",
    "        \"\"\"\n",
    "    \n",
    "    default_prompt = SystemMessagePromptTemplate.from_template(template)\n",
    "\n",
    "    pregunta_humana = 'Responde la siguiente pregunta: {pregunta}'\n",
    "    query_humano = HumanMessagePromptTemplate.from_template(pregunta_humana)\n",
    "\n",
    "    chat_prompt = ChatPromptTemplate.from_messages(\n",
    "        [default_prompt, query_humano]\n",
    "    )\n",
    "\n",
    "    chain = LLMChain(llm=chat, prompt=chat_prompt)\n",
    "\n",
    "    respuesta = chain.run(pregunta=query, docs=docs_content)\n",
    "    respuesta = respuesta.replace(\"\\n\", \"\")\n",
    "    return respuesta, docs"
   ]
  },
  {
   "cell_type": "code",
   "execution_count": 18,
   "metadata": {},
   "outputs": [],
   "source": [
    "# Demo\n",
    "\n",
    "pdf = \"comvaca.pdf\"\n",
    "db = db_from_info(pdf)"
   ]
  },
  {
   "cell_type": "code",
   "execution_count": 16,
   "metadata": {},
   "outputs": [
    {
     "name": "stdout",
     "output_type": "stream",
     "text": [
      "Pregunta: ¿Cuáles son las cifras de Providencia?\n",
      "----------------------------------\n",
      "Respuesta: Las cifras de Providencia para el año 2022 son las siguientes:- EBITDA: COP\n",
      "412,508,000- Ventas: COP 1,270,000,000- Número total de empleados: 2,928 (138\n",
      "mujeres, 2,790 hombres)- Contratistas: 681- Caña molida (Toneladas): 3,446,803-\n",
      "Producción de azúcar (Quintales): 7,360,058- Producción alcohol (Litros): 76,580,108-\n",
      "Cogeneración de energía (Kilovatio hora): 277,188,664- Producción compostaje\n",
      "(Toneladas): 75,742.62- Formados en Providencia Centro de Formación Integral: 3,295\n",
      "personasEstas son las cifras destacadas de la organización Providencia para el año\n",
      "2022.\n"
     ]
    }
   ],
   "source": [
    "#provi.pdf\n",
    "\n",
    "query = input('Hazme una pregunta:')\n",
    "respuesta, docs = get_response(db, query)\n",
    "print('Pregunta:', query)\n",
    "print('----------------------------------')\n",
    "print('Respuesta:', textwrap.fill(respuesta, width=85))"
   ]
  },
  {
   "cell_type": "code",
   "execution_count": 43,
   "metadata": {},
   "outputs": [
    {
     "name": "stdout",
     "output_type": "stream",
     "text": [
      "Pregunta: ¿Qué es AIRBNB Sale?\n",
      "----------------------------------\n",
      "Respuesta: AIRBNB Sale es una iniciativa que brinda la posibilidad de ofertar inmuebles\n",
      "destinados al turismo y asesorar a posibles clientes en futuras inversiones. Esta\n",
      "plataforma ofrece la oportunidad de invertir en inmuebles en destinos turísticos como\n",
      "República Dominicana, México, Colombia y Argentina, permitiendo a los inversionistas\n",
      "ofertar sus propiedades para el turismo.\n"
     ]
    }
   ],
   "source": [
    "#diagnostico.pdf\n",
    "\n",
    "query = input('Hazme una pregunta:')\n",
    "respuesta, docs = get_response(db, query)\n",
    "print('Pregunta:', query)\n",
    "print('----------------------------------')\n",
    "print('Respuesta:', textwrap.fill(respuesta, width=85))"
   ]
  },
  {
   "cell_type": "code",
   "execution_count": 6,
   "metadata": {},
   "outputs": [
    {
     "name": "stderr",
     "output_type": "stream",
     "text": [
      "c:\\Users\\luisr\\OneDrive\\Desktop\\chatbots\\.venv\\lib\\site-packages\\langchain_core\\_api\\deprecation.py:117: LangChainDeprecationWarning: The class `langchain_community.chat_models.openai.ChatOpenAI` was deprecated in langchain-community 0.0.10 and will be removed in 0.2.0. An updated version of the class exists in the langchain-openai package and should be used instead. To use it run `pip install -U langchain-openai` and import as `from langchain_openai import ChatOpenAI`.\n",
      "  warn_deprecated(\n",
      "c:\\Users\\luisr\\OneDrive\\Desktop\\chatbots\\.venv\\lib\\site-packages\\langchain_core\\_api\\deprecation.py:117: LangChainDeprecationWarning: The function `run` was deprecated in LangChain 0.1.0 and will be removed in 0.2.0. Use invoke instead.\n",
      "  warn_deprecated(\n"
     ]
    },
    {
     "name": "stdout",
     "output_type": "stream",
     "text": [
      "Pregunta: ¿Cuál es el tema principal del documento?\n",
      "----------------------------------\n",
      "Respuesta: El tema principal del documento es la identificación y análisis de problemas\n",
      "empresariales en diferentes organizaciones, así como la propuesta de soluciones y\n",
      "compromisos por parte de los consultores para abordar dichos problemas. Se abordan\n",
      "aspectos como la calidad del servicio, la satisfacción del cliente, la estructura\n",
      "financiera, la oferta de cursos de extensión, la implementación de modelos de\n",
      "negocio, la innovación educativa, entre otros. Cada análisis se realiza con el\n",
      "objetivo de mejorar el desempeño y la sostenibilidad de las empresas involucradas.\n"
     ]
    }
   ],
   "source": [
    "#diagnostico.pdf\n",
    "\n",
    "query = input('Hazme una pregunta:')\n",
    "respuesta, docs = get_response(db, query)\n",
    "print('Pregunta:', query)\n",
    "print('----------------------------------')\n",
    "print('Respuesta:', textwrap.fill(respuesta, width=85))"
   ]
  },
  {
   "cell_type": "code",
   "execution_count": 8,
   "metadata": {},
   "outputs": [
    {
     "name": "stdout",
     "output_type": "stream",
     "text": [
      "Pregunta: ¿Cuál es el tema principal?\n",
      "----------------------------------\n",
      "Respuesta: El tema principal es la investigación sobre los factores clave de éxito y la\n",
      "competitividad de las empresas en el Valle del Cauca. Se aborda cómo algunas empresas\n",
      "en esta región han logrado establecerse como líderes del mercado gracias a su enfoque\n",
      "en la competitividad y la adopción de estrategias que les permiten diferenciarse y\n",
      "añadir valor a sus productos y servicios. La investigación se basa en la teoría de\n",
      "las cinco fuerzas competitivas de Michael Porter y busca comprender cómo tanto los\n",
      "consumidores como los dirigentes perciben la competitividad en las empresas de la\n",
      "región.\n"
     ]
    }
   ],
   "source": [
    "#TG00814.pdf\n",
    "\n",
    "query = input('Hazme una pregunta:')\n",
    "respuesta, docs = get_response(db, query)\n",
    "print('Pregunta:', query)\n",
    "print('----------------------------------')\n",
    "print('Respuesta:', textwrap.fill(respuesta, width=85))"
   ]
  },
  {
   "cell_type": "code",
   "execution_count": 10,
   "metadata": {},
   "outputs": [
    {
     "name": "stdout",
     "output_type": "stream",
     "text": [
      "Pregunta: ¿Eres capaz de identificar los autores del proyecto de grado?\n",
      "----------------------------------\n",
      "Respuesta: No se mencionan los autores del proyecto de grado en la información proporcionada. No\n",
      "es posible identificar a los autores basándose en el texto proporcionado.\n"
     ]
    }
   ],
   "source": [
    "#TG00814.pdf\n",
    "\n",
    "query = input('Hazme una pregunta:')\n",
    "respuesta, docs = get_response(db, query)\n",
    "print('Pregunta:', query)\n",
    "print('----------------------------------')\n",
    "print('Respuesta:', textwrap.fill(respuesta, width=85))"
   ]
  },
  {
   "cell_type": "code",
   "execution_count": 12,
   "metadata": {},
   "outputs": [
    {
     "name": "stdout",
     "output_type": "stream",
     "text": [
      "Pregunta: ¿Para qué sirve el horno de convección?\n",
      "----------------------------------\n",
      "Respuesta: El horno de convección sirve para hornear y asar alimentos de manera uniforme. Este\n",
      "tipo de horno utiliza un sistema de ventilación que distribuye el calor de manera\n",
      "constante alrededor de los alimentos, lo que ayuda a que se cocinen de manera más\n",
      "rápida y uniforme. Gracias a esta circulación de aire caliente, se logra una cocción\n",
      "más eficiente y resultados más consistentes en la preparación de alimentos.\n"
     ]
    }
   ],
   "source": [
    "#induccion.pdf\n",
    "\n",
    "query = input('Hazme una pregunta:')\n",
    "respuesta, docs = get_response(db, query)\n",
    "print('Pregunta:', query)\n",
    "print('----------------------------------')\n",
    "print('Respuesta:', textwrap.fill(respuesta, width=85))"
   ]
  },
  {
   "cell_type": "code",
   "execution_count": 13,
   "metadata": {},
   "outputs": [
    {
     "name": "stdout",
     "output_type": "stream",
     "text": [
      "Pregunta: ¿Qué procedimientos realizan en el restaurante?\n",
      "----------------------------------\n",
      "Respuesta: En el restaurante se realizan los siguientes procedimientos:1. **Preparación de\n",
      "Alimentos:** Se sigue las recetas y pautas de presentación para garantizar la\n",
      "consistencia en los platos. Esto implica seguir las instrucciones detalladas para\n",
      "preparar cada plato de acuerdo con los estándares establecidos.2. **Limpieza de la\n",
      "Cocina:** Se mantiene la estación de trabajo limpia y ordenada en todo momento. Esto\n",
      "incluye limpiar las superficies de trabajo, los utensilios y equipos utilizados, así\n",
      "como mantener la cocina en general en óptimas condiciones de higiene.3. **Control de\n",
      "Inventario:** Se registra los ingredientes utilizados y se notifica al Jefe de\n",
      "Partida cuando sea necesario reponer existencias. Es importante llevar un registro\n",
      "preciso de los ingredientes para asegurar que siempre haya suficiente stock\n",
      "disponible para preparar los platos.Estos procedimientos son fundamentales para\n",
      "garantizar la calidad de los alimentos, la eficiencia en la cocina y el cumplimiento\n",
      "de los estándares de higiene y seguridad alimentaria.\n"
     ]
    }
   ],
   "source": [
    "#induccion.pdf\n",
    "\n",
    "query = input('Hazme una pregunta:')\n",
    "respuesta, docs = get_response(db, query)\n",
    "print('Pregunta:', query)\n",
    "print('----------------------------------')\n",
    "print('Respuesta:', textwrap.fill(respuesta, width=85))"
   ]
  },
  {
   "cell_type": "code",
   "execution_count": 19,
   "metadata": {},
   "outputs": [
    {
     "name": "stdout",
     "output_type": "stream",
     "text": [
      "Pregunta: ¿Cuál es el tema central del documento?\n",
      "----------------------------------\n",
      "Respuesta: El tema central del documento es la competitividad, especialmente enfocada en los\n",
      "aspectos relacionados con la productividad, el desarrollo económico, la\n",
      "globalización, la innovación, la tecnología, la conectividad y la estrategia\n",
      "competitiva a nivel nacional, regional y local. Se destaca la importancia de integrar\n",
      "la productividad con la mejora de la calidad de vida, el respeto por el medio\n",
      "ambiente, el fomento del emprendimiento y la educación a través de políticas\n",
      "gubernamentales y sociales de apoyo. La competitividad se presenta como un factor\n",
      "clave para el crecimiento a mediano y largo plazo, en un contexto marcado por la\n",
      "globalización y la interconexión económica a nivel mundial.\n"
     ]
    }
   ],
   "source": [
    "query = input('Hazme una pregunta:')\n",
    "respuesta, docs = get_response(db, query)\n",
    "print('Pregunta:', query)\n",
    "print('----------------------------------')\n",
    "print('Respuesta:', textwrap.fill(respuesta, width=85))"
   ]
  },
  {
   "cell_type": "code",
   "execution_count": null,
   "metadata": {},
   "outputs": [],
   "source": []
  }
 ],
 "metadata": {
  "kernelspec": {
   "display_name": ".venv",
   "language": "python",
   "name": "python3"
  },
  "language_info": {
   "codemirror_mode": {
    "name": "ipython",
    "version": 3
   },
   "file_extension": ".py",
   "mimetype": "text/x-python",
   "name": "python",
   "nbconvert_exporter": "python",
   "pygments_lexer": "ipython3",
   "version": "3.10.11"
  }
 },
 "nbformat": 4,
 "nbformat_minor": 2
}
